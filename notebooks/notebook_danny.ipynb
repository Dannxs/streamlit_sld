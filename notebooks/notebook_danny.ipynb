{
 "cells": [
  {
   "cell_type": "code",
   "execution_count": 30,
   "id": "8e5842db",
   "metadata": {
    "scrolled": true
   },
   "outputs": [
    {
     "data": {
      "text/html": [
       "<div>\n",
       "<style scoped>\n",
       "    .dataframe tbody tr th:only-of-type {\n",
       "        vertical-align: middle;\n",
       "    }\n",
       "\n",
       "    .dataframe tbody tr th {\n",
       "        vertical-align: top;\n",
       "    }\n",
       "\n",
       "    .dataframe thead th {\n",
       "        text-align: right;\n",
       "    }\n",
       "</style>\n",
       "<table border=\"1\" class=\"dataframe\">\n",
       "  <thead>\n",
       "    <tr style=\"text-align: right;\">\n",
       "      <th></th>\n",
       "      <th>label</th>\n",
       "      <th>pixel1</th>\n",
       "      <th>pixel2</th>\n",
       "      <th>pixel3</th>\n",
       "      <th>pixel4</th>\n",
       "      <th>pixel5</th>\n",
       "      <th>pixel6</th>\n",
       "      <th>pixel7</th>\n",
       "      <th>pixel8</th>\n",
       "      <th>pixel9</th>\n",
       "      <th>...</th>\n",
       "      <th>pixel775</th>\n",
       "      <th>pixel776</th>\n",
       "      <th>pixel777</th>\n",
       "      <th>pixel778</th>\n",
       "      <th>pixel779</th>\n",
       "      <th>pixel780</th>\n",
       "      <th>pixel781</th>\n",
       "      <th>pixel782</th>\n",
       "      <th>pixel783</th>\n",
       "      <th>pixel784</th>\n",
       "    </tr>\n",
       "  </thead>\n",
       "  <tbody>\n",
       "    <tr>\n",
       "      <th>0</th>\n",
       "      <td>3</td>\n",
       "      <td>107</td>\n",
       "      <td>118</td>\n",
       "      <td>127</td>\n",
       "      <td>134</td>\n",
       "      <td>139</td>\n",
       "      <td>143</td>\n",
       "      <td>146</td>\n",
       "      <td>150</td>\n",
       "      <td>153</td>\n",
       "      <td>...</td>\n",
       "      <td>207</td>\n",
       "      <td>207</td>\n",
       "      <td>207</td>\n",
       "      <td>207</td>\n",
       "      <td>206</td>\n",
       "      <td>206</td>\n",
       "      <td>206</td>\n",
       "      <td>204</td>\n",
       "      <td>203</td>\n",
       "      <td>202</td>\n",
       "    </tr>\n",
       "    <tr>\n",
       "      <th>1</th>\n",
       "      <td>6</td>\n",
       "      <td>155</td>\n",
       "      <td>157</td>\n",
       "      <td>156</td>\n",
       "      <td>156</td>\n",
       "      <td>156</td>\n",
       "      <td>157</td>\n",
       "      <td>156</td>\n",
       "      <td>158</td>\n",
       "      <td>158</td>\n",
       "      <td>...</td>\n",
       "      <td>69</td>\n",
       "      <td>149</td>\n",
       "      <td>128</td>\n",
       "      <td>87</td>\n",
       "      <td>94</td>\n",
       "      <td>163</td>\n",
       "      <td>175</td>\n",
       "      <td>103</td>\n",
       "      <td>135</td>\n",
       "      <td>149</td>\n",
       "    </tr>\n",
       "    <tr>\n",
       "      <th>2</th>\n",
       "      <td>2</td>\n",
       "      <td>187</td>\n",
       "      <td>188</td>\n",
       "      <td>188</td>\n",
       "      <td>187</td>\n",
       "      <td>187</td>\n",
       "      <td>186</td>\n",
       "      <td>187</td>\n",
       "      <td>188</td>\n",
       "      <td>187</td>\n",
       "      <td>...</td>\n",
       "      <td>202</td>\n",
       "      <td>201</td>\n",
       "      <td>200</td>\n",
       "      <td>199</td>\n",
       "      <td>198</td>\n",
       "      <td>199</td>\n",
       "      <td>198</td>\n",
       "      <td>195</td>\n",
       "      <td>194</td>\n",
       "      <td>195</td>\n",
       "    </tr>\n",
       "    <tr>\n",
       "      <th>3</th>\n",
       "      <td>2</td>\n",
       "      <td>211</td>\n",
       "      <td>211</td>\n",
       "      <td>212</td>\n",
       "      <td>212</td>\n",
       "      <td>211</td>\n",
       "      <td>210</td>\n",
       "      <td>211</td>\n",
       "      <td>210</td>\n",
       "      <td>210</td>\n",
       "      <td>...</td>\n",
       "      <td>235</td>\n",
       "      <td>234</td>\n",
       "      <td>233</td>\n",
       "      <td>231</td>\n",
       "      <td>230</td>\n",
       "      <td>226</td>\n",
       "      <td>225</td>\n",
       "      <td>222</td>\n",
       "      <td>229</td>\n",
       "      <td>163</td>\n",
       "    </tr>\n",
       "    <tr>\n",
       "      <th>4</th>\n",
       "      <td>13</td>\n",
       "      <td>164</td>\n",
       "      <td>167</td>\n",
       "      <td>170</td>\n",
       "      <td>172</td>\n",
       "      <td>176</td>\n",
       "      <td>179</td>\n",
       "      <td>180</td>\n",
       "      <td>184</td>\n",
       "      <td>185</td>\n",
       "      <td>...</td>\n",
       "      <td>92</td>\n",
       "      <td>105</td>\n",
       "      <td>105</td>\n",
       "      <td>108</td>\n",
       "      <td>133</td>\n",
       "      <td>163</td>\n",
       "      <td>157</td>\n",
       "      <td>163</td>\n",
       "      <td>164</td>\n",
       "      <td>179</td>\n",
       "    </tr>\n",
       "  </tbody>\n",
       "</table>\n",
       "<p>5 rows × 785 columns</p>\n",
       "</div>"
      ],
      "text/plain": [
       "   label  pixel1  pixel2  pixel3  pixel4  pixel5  pixel6  pixel7  pixel8  \\\n",
       "0      3     107     118     127     134     139     143     146     150   \n",
       "1      6     155     157     156     156     156     157     156     158   \n",
       "2      2     187     188     188     187     187     186     187     188   \n",
       "3      2     211     211     212     212     211     210     211     210   \n",
       "4     13     164     167     170     172     176     179     180     184   \n",
       "\n",
       "   pixel9  ...  pixel775  pixel776  pixel777  pixel778  pixel779  pixel780  \\\n",
       "0     153  ...       207       207       207       207       206       206   \n",
       "1     158  ...        69       149       128        87        94       163   \n",
       "2     187  ...       202       201       200       199       198       199   \n",
       "3     210  ...       235       234       233       231       230       226   \n",
       "4     185  ...        92       105       105       108       133       163   \n",
       "\n",
       "   pixel781  pixel782  pixel783  pixel784  \n",
       "0       206       204       203       202  \n",
       "1       175       103       135       149  \n",
       "2       198       195       194       195  \n",
       "3       225       222       229       163  \n",
       "4       157       163       164       179  \n",
       "\n",
       "[5 rows x 785 columns]"
      ]
     },
     "execution_count": 30,
     "metadata": {},
     "output_type": "execute_result"
    }
   ],
   "source": [
    "import numpy as np\n",
    "import pandas as pd\n",
    "import matplotlib.pyplot as plt\n",
    "\n",
    "df_image = pd.read_csv(\"../raw_data/sign_mnist_train.csv\")\n",
    "df_image_test = pd.read_csv(\"../raw_data/sign_mnist_test.csv\")\n",
    "df_image.head()"
   ]
  },
  {
   "cell_type": "code",
   "execution_count": 31,
   "id": "aa575965",
   "metadata": {},
   "outputs": [
    {
     "data": {
      "text/plain": [
       "(7172, 785)"
      ]
     },
     "execution_count": 31,
     "metadata": {},
     "output_type": "execute_result"
    }
   ],
   "source": [
    "df_image_test.shape"
   ]
  },
  {
   "cell_type": "code",
   "execution_count": 2,
   "id": "c214666d",
   "metadata": {},
   "outputs": [
    {
     "data": {
      "text/plain": [
       "(27455, 785)"
      ]
     },
     "execution_count": 2,
     "metadata": {},
     "output_type": "execute_result"
    }
   ],
   "source": [
    "df_image.shape"
   ]
  },
  {
   "cell_type": "code",
   "execution_count": 3,
   "id": "0bb92d0d",
   "metadata": {
    "scrolled": true
   },
   "outputs": [
    {
     "data": {
      "text/plain": [
       "label       0\n",
       "pixel1      0\n",
       "pixel2      0\n",
       "pixel3      0\n",
       "pixel4      0\n",
       "           ..\n",
       "pixel780    0\n",
       "pixel781    0\n",
       "pixel782    0\n",
       "pixel783    0\n",
       "pixel784    0\n",
       "Length: 785, dtype: int64"
      ]
     },
     "execution_count": 3,
     "metadata": {},
     "output_type": "execute_result"
    }
   ],
   "source": [
    "df_image.isnull().sum()"
   ]
  },
  {
   "cell_type": "code",
   "execution_count": 4,
   "id": "2dfd1c45",
   "metadata": {},
   "outputs": [
    {
     "data": {
      "text/plain": [
       "0"
      ]
     },
     "execution_count": 4,
     "metadata": {},
     "output_type": "execute_result"
    }
   ],
   "source": [
    "df_image.duplicated().sum()"
   ]
  },
  {
   "cell_type": "code",
   "execution_count": 5,
   "id": "fbaaea76",
   "metadata": {
    "scrolled": true
   },
   "outputs": [
    {
     "data": {
      "text/plain": [
       "0.0    785\n",
       "dtype: int64"
      ]
     },
     "execution_count": 5,
     "metadata": {},
     "output_type": "execute_result"
    }
   ],
   "source": [
    "(df_image.isnull().sum().sort_values(ascending=False)/len(df_image)).value_counts()"
   ]
  },
  {
   "cell_type": "code",
   "execution_count": 6,
   "id": "0e46a33a",
   "metadata": {},
   "outputs": [
    {
     "data": {
      "text/plain": [
       "17    1294\n",
       "16    1279\n",
       "11    1241\n",
       "22    1225\n",
       "5     1204\n",
       "18    1199\n",
       "3     1196\n",
       "14    1196\n",
       "19    1186\n",
       "23    1164\n",
       "8     1162\n",
       "20    1161\n",
       "13    1151\n",
       "2     1144\n",
       "0     1126\n",
       "24    1118\n",
       "10    1114\n",
       "6     1090\n",
       "15    1088\n",
       "21    1082\n",
       "12    1055\n",
       "7     1013\n",
       "1     1010\n",
       "4      957\n",
       "Name: label, dtype: int64"
      ]
     },
     "execution_count": 6,
     "metadata": {},
     "output_type": "execute_result"
    }
   ],
   "source": [
    "df_image.label.value_counts()"
   ]
  },
  {
   "cell_type": "code",
   "execution_count": 7,
   "id": "c43fb5b0",
   "metadata": {},
   "outputs": [],
   "source": [
    "letter = ['A', 'B', 'C', 'D', 'E', 'F', 'G', 'H', 'I', 'K', 'L', 'M', \n",
    "               'N', 'O', 'P', 'Q', 'R', 'S', 'T', 'U', 'V', 'W', 'X', 'Y' ]"
   ]
  },
  {
   "cell_type": "code",
   "execution_count": 8,
   "id": "bbf9a8e5",
   "metadata": {
    "scrolled": true
   },
   "outputs": [
    {
     "data": {
      "text/plain": [
       "24"
      ]
     },
     "execution_count": 8,
     "metadata": {},
     "output_type": "execute_result"
    }
   ],
   "source": [
    "len(letter)"
   ]
  },
  {
   "cell_type": "code",
   "execution_count": 9,
   "id": "8b7b3198",
   "metadata": {},
   "outputs": [
    {
     "data": {
      "text/plain": [
       "<matplotlib.image.AxesImage at 0x7f2035e6a5e0>"
      ]
     },
     "execution_count": 9,
     "metadata": {},
     "output_type": "execute_result"
    },
    {
     "data": {
      "image/png": "[encoded data removed]",
      "text/plain": [
       "<Figure size 216x216 with 1 Axes>"
      ]
     },
     "metadata": {
      "needs_background": "light"
     },
     "output_type": "display_data"
    }
   ],
   "source": [
    "import random\n",
    "\n",
    "df_image_np = np.array(df_image)\n",
    "\n",
    "i = random.randint(1,df_image.shape[0])\n",
    "fig1, ax1 = plt.subplots(figsize=(3,3))\n",
    "plt.imshow(df_image_np[i,1:].reshape((28,28))) "
   ]
  },
  {
   "cell_type": "code",
   "execution_count": 10,
   "id": "16ab8a9d",
   "metadata": {},
   "outputs": [
    {
     "data": {
      "text/plain": [
       "785"
      ]
     },
     "execution_count": 10,
     "metadata": {},
     "output_type": "execute_result"
    }
   ],
   "source": [
    "len(df_image_np[0])"
   ]
  },
  {
   "cell_type": "code",
   "execution_count": 33,
   "id": "8dc0cd4b",
   "metadata": {},
   "outputs": [],
   "source": [
    "X_train = np.array(df_image.drop(columns=\"label\"), dtype = 'float32')\n",
    "y_train = df_image[\"label\"]\n",
    "X_test = np.array(df_image_test.drop(columns=\"label\"), dtype = 'float32')\n",
    "y_test = df_image_test[\"label\"]"
   ]
  },
  {
   "cell_type": "code",
   "execution_count": 12,
   "id": "756e350a",
   "metadata": {
    "scrolled": true
   },
   "outputs": [
    {
     "data": {
      "text/plain": [
       "17    1294\n",
       "16    1279\n",
       "11    1241\n",
       "22    1225\n",
       "5     1204\n",
       "18    1199\n",
       "3     1196\n",
       "14    1196\n",
       "19    1186\n",
       "23    1164\n",
       "8     1162\n",
       "20    1161\n",
       "13    1151\n",
       "2     1144\n",
       "0     1126\n",
       "24    1118\n",
       "10    1114\n",
       "6     1090\n",
       "15    1088\n",
       "21    1082\n",
       "12    1055\n",
       "7     1013\n",
       "1     1010\n",
       "4      957\n",
       "Name: label, dtype: int64"
      ]
     },
     "execution_count": 12,
     "metadata": {},
     "output_type": "execute_result"
    }
   ],
   "source": [
    "y_train.value_counts()"
   ]
  },
  {
   "cell_type": "code",
   "execution_count": 13,
   "id": "39206c5f",
   "metadata": {},
   "outputs": [
    {
     "data": {
      "text/plain": [
       "3"
      ]
     },
     "execution_count": 13,
     "metadata": {},
     "output_type": "execute_result"
    }
   ],
   "source": [
    "letter.index(\"D\")"
   ]
  },
  {
   "cell_type": "code",
   "execution_count": 14,
   "id": "add29bc1",
   "metadata": {},
   "outputs": [
    {
     "data": {
      "text/plain": [
       "8"
      ]
     },
     "execution_count": 14,
     "metadata": {},
     "output_type": "execute_result"
    }
   ],
   "source": [
    "y_train[145]"
   ]
  },
  {
   "cell_type": "code",
   "execution_count": 15,
   "id": "b3f675de",
   "metadata": {},
   "outputs": [
    {
     "data": {
      "text/plain": [
       "17    1294\n",
       "16    1279\n",
       "11    1241\n",
       "22    1225\n",
       "5     1204\n",
       "18    1199\n",
       "3     1196\n",
       "14    1196\n",
       "19    1186\n",
       "23    1164\n",
       "8     1162\n",
       "20    1161\n",
       "13    1151\n",
       "2     1144\n",
       "0     1126\n",
       "24    1118\n",
       "10    1114\n",
       "6     1090\n",
       "15    1088\n",
       "21    1082\n",
       "12    1055\n",
       "7     1013\n",
       "1     1010\n",
       "4      957\n",
       "Name: label, dtype: int64"
      ]
     },
     "execution_count": 15,
     "metadata": {},
     "output_type": "execute_result"
    }
   ],
   "source": [
    "y_train.value_counts()"
   ]
  },
  {
   "cell_type": "code",
   "execution_count": 16,
   "id": "ca0825b7",
   "metadata": {},
   "outputs": [],
   "source": [
    "dict_letter = {0:'A', 1:'B', 2:'C', 3:'D', 4:'E', 5:'F', 6:'G', 7:'H', 8:'I', 10:'K', 11:'L', 12:'M', \n",
    "               13:'N', 14:'O', 15:'P', 16:'Q', 17:'R', 18:'S', 19:'T', 20:'U', 21:'V', 22:'W', 23:'X', 24:'Y' }\n"
   ]
  },
  {
   "cell_type": "code",
   "execution_count": 17,
   "id": "6ed9edec",
   "metadata": {},
   "outputs": [],
   "source": [
    "#i=0\n",
    "#for i in range(0, len(y_train)):\n",
    "#    y_train[i] = dict_letter[y_train[i]]"
   ]
  },
  {
   "cell_type": "code",
   "execution_count": 18,
   "id": "cc4fe13b",
   "metadata": {
    "scrolled": true
   },
   "outputs": [
    {
     "data": {
      "text/plain": [
       "0         3\n",
       "1         6\n",
       "2         2\n",
       "3         2\n",
       "4        13\n",
       "         ..\n",
       "27450    13\n",
       "27451    23\n",
       "27452    18\n",
       "27453    17\n",
       "27454    23\n",
       "Name: label, Length: 27455, dtype: int64"
      ]
     },
     "execution_count": 18,
     "metadata": {},
     "output_type": "execute_result"
    }
   ],
   "source": [
    "y_train"
   ]
  },
  {
   "cell_type": "code",
   "execution_count": 19,
   "id": "945e506a",
   "metadata": {},
   "outputs": [
    {
     "data": {
      "text/plain": [
       "17    1294\n",
       "16    1279\n",
       "11    1241\n",
       "22    1225\n",
       "5     1204\n",
       "18    1199\n",
       "3     1196\n",
       "14    1196\n",
       "19    1186\n",
       "23    1164\n",
       "8     1162\n",
       "20    1161\n",
       "13    1151\n",
       "2     1144\n",
       "0     1126\n",
       "24    1118\n",
       "10    1114\n",
       "6     1090\n",
       "15    1088\n",
       "21    1082\n",
       "12    1055\n",
       "7     1013\n",
       "1     1010\n",
       "4      957\n",
       "Name: label, dtype: int64"
      ]
     },
     "execution_count": 19,
     "metadata": {},
     "output_type": "execute_result"
    }
   ],
   "source": [
    "y_train.value_counts()"
   ]
  },
  {
   "cell_type": "code",
   "execution_count": 34,
   "id": "3c497359",
   "metadata": {},
   "outputs": [
    {
     "data": {
      "text/plain": [
       "array([[0.41960785, 0.4627451 , 0.49803922, ..., 0.8       , 0.79607844,\n",
       "        0.7921569 ],\n",
       "       [0.60784316, 0.6156863 , 0.6117647 , ..., 0.40392157, 0.5294118 ,\n",
       "        0.58431375],\n",
       "       [0.73333335, 0.7372549 , 0.7372549 , ..., 0.7647059 , 0.7607843 ,\n",
       "        0.7647059 ],\n",
       "       ...,\n",
       "       [0.68235296, 0.68235296, 0.68235296, ..., 0.7921569 , 0.78431374,\n",
       "        0.78431374],\n",
       "       [0.69411767, 0.70980394, 0.72156864, ..., 0.2509804 , 0.34117648,\n",
       "        0.3647059 ],\n",
       "       [0.7019608 , 0.7058824 , 0.7058824 , ..., 0.8039216 , 0.81960785,\n",
       "        0.84313726]], dtype=float32)"
      ]
     },
     "execution_count": 34,
     "metadata": {},
     "output_type": "execute_result"
    }
   ],
   "source": [
    "from tensorflow.keras.utils import to_categorical\n",
    "X_train = X_train / 255.\n",
    "X_test = X_test / 255.\n",
    "X_train"
   ]
  },
  {
   "cell_type": "code",
   "execution_count": 35,
   "id": "8a9b065c",
   "metadata": {},
   "outputs": [
    {
     "data": {
      "text/plain": [
       "array([[0., 0., 0., ..., 0., 0., 0.],\n",
       "       [0., 0., 0., ..., 0., 0., 0.],\n",
       "       [0., 0., 1., ..., 0., 0., 0.],\n",
       "       ...,\n",
       "       [0., 0., 0., ..., 0., 0., 0.],\n",
       "       [0., 0., 0., ..., 0., 0., 0.],\n",
       "       [0., 0., 0., ..., 0., 1., 0.]], dtype=float32)"
      ]
     },
     "execution_count": 35,
     "metadata": {},
     "output_type": "execute_result"
    }
   ],
   "source": [
    "y_train_cat = to_categorical(y_train, num_classes=25)\n",
    "y_test_cat = to_categorical(y_test, num_classes=25)\n",
    "y_train_cat"
   ]
  },
  {
   "cell_type": "code",
   "execution_count": 22,
   "id": "95f48d1e",
   "metadata": {
    "scrolled": true
   },
   "outputs": [
    {
     "data": {
      "text/plain": [
       "0         3\n",
       "1         6\n",
       "2         2\n",
       "3         2\n",
       "4        13\n",
       "         ..\n",
       "27450    13\n",
       "27451    23\n",
       "27452    18\n",
       "27453    17\n",
       "27454    23\n",
       "Name: label, Length: 27455, dtype: int64"
      ]
     },
     "execution_count": 22,
     "metadata": {},
     "output_type": "execute_result"
    }
   ],
   "source": [
    "y_train"
   ]
  },
  {
   "cell_type": "code",
   "execution_count": 36,
   "id": "1ce75d1a",
   "metadata": {
    "scrolled": true
   },
   "outputs": [],
   "source": [
    "X_train = X_train.reshape(X_train.shape[0], *(28, 28, 1))\n",
    "X_test = X_test.reshape(X_test.shape[0], *(28,28,1))"
   ]
  },
  {
   "cell_type": "code",
   "execution_count": 25,
   "id": "116d859c",
   "metadata": {},
   "outputs": [
    {
     "data": {
      "text/plain": [
       "array([[[[0.41960785],\n",
       "         [0.4627451 ],\n",
       "         [0.49803922],\n",
       "         ...,\n",
       "         [0.6666667 ],\n",
       "         [0.6666667 ],\n",
       "         [0.6627451 ]],\n",
       "\n",
       "        [[0.43529412],\n",
       "         [0.4745098 ],\n",
       "         [0.5058824 ],\n",
       "         ...,\n",
       "         [0.67058825],\n",
       "         [0.67058825],\n",
       "         [0.6666667 ]],\n",
       "\n",
       "        [[0.44313726],\n",
       "         [0.48235294],\n",
       "         [0.5137255 ],\n",
       "         ...,\n",
       "         [0.67058825],\n",
       "         [0.67058825],\n",
       "         [0.67058825]],\n",
       "\n",
       "        ...,\n",
       "\n",
       "        [[0.5568628 ],\n",
       "         [0.5882353 ],\n",
       "         [0.62352943],\n",
       "         ...,\n",
       "         [0.7921569 ],\n",
       "         [0.7882353 ],\n",
       "         [0.78431374]],\n",
       "\n",
       "        [[0.5568628 ],\n",
       "         [0.5921569 ],\n",
       "         [0.627451  ],\n",
       "         ...,\n",
       "         [0.8       ],\n",
       "         [0.79607844],\n",
       "         [0.7921569 ]],\n",
       "\n",
       "        [[0.5568628 ],\n",
       "         [0.5921569 ],\n",
       "         [0.627451  ],\n",
       "         ...,\n",
       "         [0.8       ],\n",
       "         [0.79607844],\n",
       "         [0.7921569 ]]],\n",
       "\n",
       "\n",
       "       [[[0.60784316],\n",
       "         [0.6156863 ],\n",
       "         [0.6117647 ],\n",
       "         ...,\n",
       "         [0.5411765 ],\n",
       "         [0.36078432],\n",
       "         [0.42352942]],\n",
       "\n",
       "        [[0.61960787],\n",
       "         [0.62352943],\n",
       "         [0.62352943],\n",
       "         ...,\n",
       "         [0.5568628 ],\n",
       "         [0.45490196],\n",
       "         [0.56078434]],\n",
       "\n",
       "        [[0.6313726 ],\n",
       "         [0.6313726 ],\n",
       "         [0.6313726 ],\n",
       "         ...,\n",
       "         [0.5764706 ],\n",
       "         [0.49019608],\n",
       "         [0.54901963]],\n",
       "\n",
       "        ...,\n",
       "\n",
       "        [[0.63529414],\n",
       "         [0.62352943],\n",
       "         [0.5686275 ],\n",
       "         ...,\n",
       "         [0.35686275],\n",
       "         [0.39607844],\n",
       "         [0.36862746]],\n",
       "\n",
       "        [[0.6       ],\n",
       "         [0.54509807],\n",
       "         [0.4509804 ],\n",
       "         ...,\n",
       "         [0.38039216],\n",
       "         [0.37254903],\n",
       "         [0.47058824]],\n",
       "\n",
       "        [[0.5294118 ],\n",
       "         [0.45490196],\n",
       "         [0.37254903],\n",
       "         ...,\n",
       "         [0.40392157],\n",
       "         [0.5294118 ],\n",
       "         [0.58431375]]],\n",
       "\n",
       "\n",
       "       [[[0.73333335],\n",
       "         [0.7372549 ],\n",
       "         [0.7372549 ],\n",
       "         ...,\n",
       "         [0.25882354],\n",
       "         [0.3019608 ],\n",
       "         [0.3254902 ]],\n",
       "\n",
       "        [[0.7372549 ],\n",
       "         [0.7411765 ],\n",
       "         [0.7411765 ],\n",
       "         ...,\n",
       "         [0.28627452],\n",
       "         [0.28627452],\n",
       "         [0.2784314 ]],\n",
       "\n",
       "        [[0.74509805],\n",
       "         [0.74509805],\n",
       "         [0.74509805],\n",
       "         ...,\n",
       "         [0.2901961 ],\n",
       "         [0.26666668],\n",
       "         [0.23921569]],\n",
       "\n",
       "        ...,\n",
       "\n",
       "        [[0.83137256],\n",
       "         [0.7764706 ],\n",
       "         [0.6862745 ],\n",
       "         ...,\n",
       "         [0.7647059 ],\n",
       "         [0.75686276],\n",
       "         [0.7529412 ]],\n",
       "\n",
       "        [[0.7921569 ],\n",
       "         [0.7019608 ],\n",
       "         [0.59607846],\n",
       "         ...,\n",
       "         [0.7647059 ],\n",
       "         [0.7607843 ],\n",
       "         [0.75686276]],\n",
       "\n",
       "        [[0.7764706 ],\n",
       "         [0.6509804 ],\n",
       "         [0.5176471 ],\n",
       "         ...,\n",
       "         [0.7647059 ],\n",
       "         [0.7607843 ],\n",
       "         [0.7647059 ]]],\n",
       "\n",
       "\n",
       "       ...,\n",
       "\n",
       "\n",
       "       [[[0.68235296],\n",
       "         [0.68235296],\n",
       "         [0.68235296],\n",
       "         ...,\n",
       "         [0.627451  ],\n",
       "         [0.61960787],\n",
       "         [0.6117647 ]],\n",
       "\n",
       "        [[0.69803923],\n",
       "         [0.69803923],\n",
       "         [0.69411767],\n",
       "         ...,\n",
       "         [0.63529414],\n",
       "         [0.627451  ],\n",
       "         [0.61960787]],\n",
       "\n",
       "        [[0.70980394],\n",
       "         [0.7058824 ],\n",
       "         [0.7058824 ],\n",
       "         ...,\n",
       "         [0.6431373 ],\n",
       "         [0.63529414],\n",
       "         [0.6313726 ]],\n",
       "\n",
       "        ...,\n",
       "\n",
       "        [[0.84313726],\n",
       "         [0.84705883],\n",
       "         [0.84705883],\n",
       "         ...,\n",
       "         [0.7882353 ],\n",
       "         [0.78039217],\n",
       "         [0.7764706 ]],\n",
       "\n",
       "        [[0.84705883],\n",
       "         [0.8509804 ],\n",
       "         [0.8509804 ],\n",
       "         ...,\n",
       "         [0.7882353 ],\n",
       "         [0.78431374],\n",
       "         [0.7764706 ]],\n",
       "\n",
       "        [[0.8509804 ],\n",
       "         [0.8509804 ],\n",
       "         [0.8509804 ],\n",
       "         ...,\n",
       "         [0.7921569 ],\n",
       "         [0.78431374],\n",
       "         [0.78431374]]],\n",
       "\n",
       "\n",
       "       [[[0.69411767],\n",
       "         [0.70980394],\n",
       "         [0.72156864],\n",
       "         ...,\n",
       "         [0.70980394],\n",
       "         [0.7019608 ],\n",
       "         [0.69411767]],\n",
       "\n",
       "        [[0.7019608 ],\n",
       "         [0.7137255 ],\n",
       "         [0.7254902 ],\n",
       "         ...,\n",
       "         [0.7176471 ],\n",
       "         [0.70980394],\n",
       "         [0.7019608 ]],\n",
       "\n",
       "        [[0.70980394],\n",
       "         [0.72156864],\n",
       "         [0.73333335],\n",
       "         ...,\n",
       "         [0.7254902 ],\n",
       "         [0.7176471 ],\n",
       "         [0.7137255 ]],\n",
       "\n",
       "        ...,\n",
       "\n",
       "        [[0.5058824 ],\n",
       "         [0.5176471 ],\n",
       "         [0.5254902 ],\n",
       "         ...,\n",
       "         [0.36862746],\n",
       "         [0.4       ],\n",
       "         [0.27450982]],\n",
       "\n",
       "        [[0.5137255 ],\n",
       "         [0.5254902 ],\n",
       "         [0.5176471 ],\n",
       "         ...,\n",
       "         [0.30588236],\n",
       "         [0.39215687],\n",
       "         [0.3372549 ]],\n",
       "\n",
       "        [[0.53333336],\n",
       "         [0.5294118 ],\n",
       "         [0.5294118 ],\n",
       "         ...,\n",
       "         [0.2509804 ],\n",
       "         [0.34117648],\n",
       "         [0.3647059 ]]],\n",
       "\n",
       "\n",
       "       [[[0.7019608 ],\n",
       "         [0.7058824 ],\n",
       "         [0.7058824 ],\n",
       "         ...,\n",
       "         [0.18431373],\n",
       "         [0.11764706],\n",
       "         [0.15294118]],\n",
       "\n",
       "        [[0.7058824 ],\n",
       "         [0.7137255 ],\n",
       "         [0.7176471 ],\n",
       "         ...,\n",
       "         [0.30980393],\n",
       "         [0.09411765],\n",
       "         [0.13333334]],\n",
       "\n",
       "        [[0.72156864],\n",
       "         [0.72156864],\n",
       "         [0.7254902 ],\n",
       "         ...,\n",
       "         [0.4509804 ],\n",
       "         [0.09803922],\n",
       "         [0.11372549]],\n",
       "\n",
       "        ...,\n",
       "\n",
       "        [[0.3529412 ],\n",
       "         [0.36862746],\n",
       "         [0.29803923],\n",
       "         ...,\n",
       "         [0.42745098],\n",
       "         [0.5882353 ],\n",
       "         [0.6745098 ]],\n",
       "\n",
       "        [[0.36862746],\n",
       "         [0.3647059 ],\n",
       "         [0.34901962],\n",
       "         ...,\n",
       "         [0.7921569 ],\n",
       "         [0.8352941 ],\n",
       "         [0.84313726]],\n",
       "\n",
       "        [[0.3764706 ],\n",
       "         [0.34509805],\n",
       "         [0.42745098],\n",
       "         ...,\n",
       "         [0.8039216 ],\n",
       "         [0.81960785],\n",
       "         [0.84313726]]]], dtype=float32)"
      ]
     },
     "execution_count": 25,
     "metadata": {},
     "output_type": "execute_result"
    }
   ],
   "source": [
    "X_train"
   ]
  },
  {
   "cell_type": "code",
   "execution_count": 26,
   "id": "bee424db",
   "metadata": {},
   "outputs": [
    {
     "data": {
      "text/plain": [
       "(27455, 28, 28, 1)"
      ]
     },
     "execution_count": 26,
     "metadata": {},
     "output_type": "execute_result"
    }
   ],
   "source": [
    "X_train.shape"
   ]
  },
  {
   "cell_type": "code",
   "execution_count": 37,
   "id": "fb0295f3",
   "metadata": {},
   "outputs": [
    {
     "data": {
      "text/plain": [
       "(7172, 28, 28, 1)"
      ]
     },
     "execution_count": 37,
     "metadata": {},
     "output_type": "execute_result"
    }
   ],
   "source": [
    "X_test.shape"
   ]
  },
  {
   "cell_type": "code",
   "execution_count": 93,
   "id": "1d0aab18",
   "metadata": {},
   "outputs": [
    {
     "data": {
      "text/plain": [
       "(27455, 25)"
      ]
     },
     "execution_count": 93,
     "metadata": {},
     "output_type": "execute_result"
    }
   ],
   "source": [
    "y_train_cat.shape"
   ]
  },
  {
   "cell_type": "code",
   "execution_count": 74,
   "id": "3ac0662b",
   "metadata": {},
   "outputs": [],
   "source": [
    "from tensorflow.keras import layers\n",
    "from tensorflow.keras import models\n",
    "\n",
    "def initialize_model():\n",
    "    '''instanciate and return the CNN architecture of your choice with less than 150,000 params'''\n",
    "    model = models.Sequential()\n",
    "    model.add(layers.Conv2D(32, (3,3), padding='same', activation=\"relu\", input_shape=(28,28,1)))\n",
    "    model.add(layers.MaxPool2D(pool_size=(2,2)))\n",
    "    model.add(layers.Dropout(0.2))\n",
    "    model.add(layers.Conv2D(64, (3,3), padding='same', activation=\"relu\"))\n",
    "    model.add(layers.MaxPool2D(pool_size=(2,2)))\n",
    "    model.add(layers.BatchNormalization())\n",
    "    model.add(layers.Conv2D(64, (3,3), padding='same', activation=\"relu\"))\n",
    "    model.add(layers.MaxPool2D(pool_size=(2,2)))\n",
    "    model.add(layers.BatchNormalization())\n",
    "    \n",
    "    ### Flattening\n",
    "    model.add(layers.Flatten())\n",
    "\n",
    "    ### One fully connected\n",
    "    model.add(layers.Dense(128, activation='relu')) # intermediate layer\n",
    "\n",
    "    model.add(layers.Dense(25, activation='softmax'))\n",
    "\n",
    "    return model"
   ]
  },
  {
   "cell_type": "code",
   "execution_count": 76,
   "id": "1fac27b9",
   "metadata": {},
   "outputs": [],
   "source": [
    "def compile_model(model):\n",
    "    model.compile(loss='categorical_crossentropy',\n",
    "          optimizer='adam',\n",
    "          metrics=['accuracy'])\n",
    "    return model"
   ]
  },
  {
   "cell_type": "code",
   "execution_count": 83,
   "id": "e232f44e",
   "metadata": {},
   "outputs": [
    {
     "data": {
      "text/plain": [
       "(27455, 28, 28, 1)"
      ]
     },
     "execution_count": 83,
     "metadata": {},
     "output_type": "execute_result"
    }
   ],
   "source": [
    "X_train.shape"
   ]
  },
  {
   "cell_type": "code",
   "execution_count": 84,
   "id": "ed90a4e9",
   "metadata": {},
   "outputs": [
    {
     "data": {
      "text/plain": [
       "(7172, 28, 28, 1)"
      ]
     },
     "execution_count": 84,
     "metadata": {},
     "output_type": "execute_result"
    }
   ],
   "source": [
    "X_test.shape"
   ]
  },
  {
   "cell_type": "code",
   "execution_count": 87,
   "id": "a7b1578f",
   "metadata": {},
   "outputs": [
    {
     "data": {
      "text/plain": [
       "(27455, 25)"
      ]
     },
     "execution_count": 87,
     "metadata": {},
     "output_type": "execute_result"
    }
   ],
   "source": [
    "y_train_cat.shape"
   ]
  },
  {
   "cell_type": "code",
   "execution_count": 88,
   "id": "b55965a1",
   "metadata": {},
   "outputs": [
    {
     "data": {
      "text/plain": [
       "(7172, 25)"
      ]
     },
     "execution_count": 88,
     "metadata": {},
     "output_type": "execute_result"
    }
   ],
   "source": [
    "y_test_cat.shape"
   ]
  },
  {
   "cell_type": "code",
   "execution_count": 77,
   "id": "ecd106d3",
   "metadata": {},
   "outputs": [
    {
     "name": "stdout",
     "output_type": "stream",
     "text": [
      "Epoch 1/15\n",
      "301/301 [==============================] - 8s 25ms/step - loss: 0.8522 - accuracy: 0.7484 - val_loss: 5.0361 - val_accuracy: 0.0721\n",
      "Epoch 2/15\n",
      "301/301 [==============================] - 7s 23ms/step - loss: 0.0273 - accuracy: 0.9975 - val_loss: 0.2682 - val_accuracy: 0.9259\n",
      "Epoch 3/15\n",
      "301/301 [==============================] - 7s 23ms/step - loss: 0.0076 - accuracy: 0.9996 - val_loss: 0.0055 - val_accuracy: 1.0000\n",
      "Epoch 4/15\n",
      "301/301 [==============================] - 7s 23ms/step - loss: 0.0034 - accuracy: 0.9998 - val_loss: 9.8282e-04 - val_accuracy: 1.0000\n",
      "Epoch 5/15\n",
      "301/301 [==============================] - 7s 23ms/step - loss: 0.0034 - accuracy: 0.9995 - val_loss: 0.0049 - val_accuracy: 0.9995\n",
      "Epoch 6/15\n",
      "301/301 [==============================] - 7s 23ms/step - loss: 0.0019 - accuracy: 0.9999 - val_loss: 3.4839e-04 - val_accuracy: 1.0000\n",
      "Epoch 7/15\n",
      "301/301 [==============================] - 7s 24ms/step - loss: 0.0172 - accuracy: 0.9946 - val_loss: 0.0941 - val_accuracy: 0.9671\n",
      "Epoch 8/15\n",
      "301/301 [==============================] - 7s 24ms/step - loss: 0.0150 - accuracy: 0.9954 - val_loss: 1.3226e-04 - val_accuracy: 1.0000\n",
      "Epoch 9/15\n",
      "301/301 [==============================] - 7s 24ms/step - loss: 5.6204e-04 - accuracy: 1.0000 - val_loss: 8.5515e-05 - val_accuracy: 1.0000\n",
      "Epoch 10/15\n",
      "301/301 [==============================] - 7s 24ms/step - loss: 2.1720e-04 - accuracy: 1.0000 - val_loss: 4.7475e-05 - val_accuracy: 1.0000\n",
      "Epoch 11/15\n",
      "301/301 [==============================] - 7s 24ms/step - loss: 2.0682e-04 - accuracy: 1.0000 - val_loss: 9.4283e-05 - val_accuracy: 1.0000\n",
      "Epoch 12/15\n",
      "301/301 [==============================] - 7s 25ms/step - loss: 1.5318e-04 - accuracy: 1.0000 - val_loss: 3.2755e-05 - val_accuracy: 1.0000\n",
      "Epoch 13/15\n",
      "301/301 [==============================] - 7s 24ms/step - loss: 1.1799e-04 - accuracy: 1.0000 - val_loss: 3.4975e-05 - val_accuracy: 1.0000\n",
      "Epoch 14/15\n",
      "301/301 [==============================] - 7s 24ms/step - loss: 8.3784e-05 - accuracy: 1.0000 - val_loss: 2.7983e-05 - val_accuracy: 1.0000\n",
      "Epoch 15/15\n",
      "301/301 [==============================] - 7s 24ms/step - loss: 5.8423e-05 - accuracy: 1.0000 - val_loss: 1.5664e-05 - val_accuracy: 1.0000\n"
     ]
    }
   ],
   "source": [
    "from tensorflow.keras.callbacks import EarlyStopping\n",
    "\n",
    "model = initialize_model()\n",
    "\n",
    "model = compile_model(model)\n",
    "\n",
    "es = EarlyStopping(patience = 2)\n",
    "\n",
    "history = model.fit(X_train, y_train_cat,\n",
    "          validation_split=0.3,\n",
    "          epochs=15,  # Use early stop in practice\n",
    "          batch_size=64, \n",
    "          verbose=1,\n",
    "          callbacks=[es])"
   ]
  },
  {
   "cell_type": "code",
   "execution_count": 78,
   "id": "caad0836",
   "metadata": {},
   "outputs": [],
   "source": [
    "def plot_history(history, title='', axs=None, exp_name=\"\"):\n",
    "    if axs is not None:\n",
    "        ax1, ax2 = axs\n",
    "    else:\n",
    "        f, (ax1, ax2) = plt.subplots(1, 2, figsize=(12, 4))\n",
    "    \n",
    "    if len(exp_name) > 0 and exp_name[0] != '_':\n",
    "        exp_name = '_' + exp_name\n",
    "    ax1.plot(history.history['loss'], label='train' + exp_name)\n",
    "    ax1.plot(history.history['val_loss'], label='val' + exp_name)\n",
    "    ax1.set_ylim(0., 2.2)\n",
    "    ax1.set_title('loss')\n",
    "    ax1.legend()\n",
    "\n",
    "    ax2.plot(history.history['accuracy'], label='train accuracy'  + exp_name)\n",
    "    ax2.plot(history.history['val_accuracy'], label='val accuracy'  + exp_name)\n",
    "    ax2.set_ylim(0.25, 1.)\n",
    "    ax2.set_title('Accuracy')\n",
    "    ax2.legend()\n",
    "    return (ax1, ax2)"
   ]
  },
  {
   "cell_type": "code",
   "execution_count": 79,
   "id": "bb813ffc",
   "metadata": {
    "scrolled": true
   },
   "outputs": [
    {
     "data": {
      "image/png": "[encoded data removed]",
      "text/plain": [
       "<Figure size 864x288 with 2 Axes>"
      ]
     },
     "metadata": {
      "needs_background": "light"
     },
     "output_type": "display_data"
    }
   ],
   "source": [
    "plot_history(history, title='', axs=None, exp_name=\"\");"
   ]
  },
  {
   "cell_type": "code",
   "execution_count": 80,
   "id": "bc6e1fcd",
   "metadata": {
    "scrolled": true
   },
   "outputs": [
    {
     "name": "stdout",
     "output_type": "stream",
     "text": [
      "225/225 [==============================] - 1s 4ms/step - loss: 0.1409 - accuracy: 0.9612\n"
     ]
    },
    {
     "data": {
      "text/plain": [
       "[0.14086657762527466, 0.9612381458282471]"
      ]
     },
     "execution_count": 80,
     "metadata": {},
     "output_type": "execute_result"
    }
   ],
   "source": [
    "model.evaluate(X_test, y_test_cat)"
   ]
  },
  {
   "cell_type": "code",
   "execution_count": 92,
   "id": "08b4f088",
   "metadata": {},
   "outputs": [
    {
     "data": {
      "image/png": "[encoded data removed]",
      "text/plain": [
       "<Figure size 1440x1080 with 2 Axes>"
      ]
     },
     "metadata": {
      "needs_background": "light"
     },
     "output_type": "display_data"
    }
   ],
   "source": [
    "from sklearn import metrics\n",
    "import seaborn as sns\n",
    "# Predict the values from the validation dataset\n",
    "Y_pred = model.predict(X_test)\n",
    "# Convert predictions classes to one hot vectors \n",
    "Y_pred_classes = np.argmax(Y_pred,axis = 1) \n",
    "# Convert validation observations to one hot vectors\n",
    "Y_true = np.argmax(y_test_cat,axis = 1) \n",
    "# compute the confusion matrix\n",
    "confusion_mtx = metrics.confusion_matrix(Y_true, Y_pred_classes) \n",
    "# plot the confusion matrix\n",
    "f,ax = plt.subplots(figsize=(20, 15))\n",
    "sns.heatmap(confusion_mtx, annot=True, linewidths=0.01,cmap=\"Greens\",linecolor=\"gray\",ax=ax)\n",
    "plt.xlabel(\"Valeurs prédites\",size=8)\n",
    "plt.ylabel(\"Valeurs actuelles\",size=8)\n",
    "plt.title('Matrice de confusion: CNN \\n\\n', weight='700',color='Green', size=9)\n",
    "plt.show()"
   ]
  }
 ],
 "metadata": {
  "kernelspec": {
   "display_name": "Python 3 (ipykernel)",
   "language": "python",
   "name": "python3"
  },
  "language_info": {
   "codemirror_mode": {
    "name": "ipython",
    "version": 3
   },
   "file_extension": ".py",
   "mimetype": "text/x-python",
   "name": "python",
   "nbconvert_exporter": "python",
   "pygments_lexer": "ipython3",
   "version": "3.8.12"
  },
  "toc": {
   "base_numbering": 1,
   "nav_menu": {},
   "number_sections": true,
   "sideBar": true,
   "skip_h1_title": false,
   "title_cell": "Table of Contents",
   "title_sidebar": "Contents",
   "toc_cell": false,
   "toc_position": {},
   "toc_section_display": true,
   "toc_window_display": false
  }
 },
 "nbformat": 4,
 "nbformat_minor": 5
}
