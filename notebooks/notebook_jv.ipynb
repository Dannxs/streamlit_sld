{
 "cells": [
  {
   "cell_type": "code",
   "execution_count": 1,
   "id": "94a8161b",
   "metadata": {},
   "outputs": [],
   "source": [
    "! pip install -U --quiet tensorflow_datasets Pillow"
   ]
  },
  {
   "cell_type": "code",
   "execution_count": 2,
   "id": "6a9fe4b5",
   "metadata": {},
   "outputs": [],
   "source": [
    "import numpy as np\n",
    "import os\n",
    "import PIL\n",
    "import PIL.Image\n",
    "import tensorflow as tf\n",
    "import tensorflow_datasets as tfds\n",
    "import pathlib\n",
    "import matplotlib.pyplot as plt"
   ]
  },
  {
   "cell_type": "code",
   "execution_count": null,
   "id": "e254d17c",
   "metadata": {},
   "outputs": [],
   "source": [
    "dataset_url = "
   ]
  }
 ],
 "metadata": {
  "kernelspec": {
   "display_name": "Python 3 (ipykernel)",
   "language": "python",
   "name": "python3"
  },
  "language_info": {
   "codemirror_mode": {
    "name": "ipython",
    "version": 3
   },
   "file_extension": ".py",
   "mimetype": "text/x-python",
   "name": "python",
   "nbconvert_exporter": "python",
   "pygments_lexer": "ipython3",
   "version": "3.8.12"
  }
 },
 "nbformat": 4,
 "nbformat_minor": 5
}
