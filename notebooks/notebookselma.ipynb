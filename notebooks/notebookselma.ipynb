{
 "cells": [
  {
   "cell_type": "markdown",
   "id": "d753241a",
   "metadata": {},
   "source": [
    "## Exploration"
   ]
  },
  {
   "cell_type": "code",
   "execution_count": 47,
   "id": "aca7cff5",
   "metadata": {},
   "outputs": [],
   "source": [
    "import numpy as np\n",
    "import pandas as pd \n",
    "import csv \n",
    "import random\n",
    "import matplotlib.pyplot as plt \n",
    "from tensorflow.keras.datasets import cifar10 \n",
    "from tensorflow.keras.utils import to_categorical"
   ]
  },
  {
   "cell_type": "code",
   "execution_count": 4,
   "id": "3c22889e",
   "metadata": {},
   "outputs": [
    {
     "data": {
      "text/html": [
       "<div>\n",
       "<style scoped>\n",
       "    .dataframe tbody tr th:only-of-type {\n",
       "        vertical-align: middle;\n",
       "    }\n",
       "\n",
       "    .dataframe tbody tr th {\n",
       "        vertical-align: top;\n",
       "    }\n",
       "\n",
       "    .dataframe thead th {\n",
       "        text-align: right;\n",
       "    }\n",
       "</style>\n",
       "<table border=\"1\" class=\"dataframe\">\n",
       "  <thead>\n",
       "    <tr style=\"text-align: right;\">\n",
       "      <th></th>\n",
       "      <th>label</th>\n",
       "      <th>pixel1</th>\n",
       "      <th>pixel2</th>\n",
       "      <th>pixel3</th>\n",
       "      <th>pixel4</th>\n",
       "      <th>pixel5</th>\n",
       "      <th>pixel6</th>\n",
       "      <th>pixel7</th>\n",
       "      <th>pixel8</th>\n",
       "      <th>pixel9</th>\n",
       "      <th>...</th>\n",
       "      <th>pixel775</th>\n",
       "      <th>pixel776</th>\n",
       "      <th>pixel777</th>\n",
       "      <th>pixel778</th>\n",
       "      <th>pixel779</th>\n",
       "      <th>pixel780</th>\n",
       "      <th>pixel781</th>\n",
       "      <th>pixel782</th>\n",
       "      <th>pixel783</th>\n",
       "      <th>pixel784</th>\n",
       "    </tr>\n",
       "  </thead>\n",
       "  <tbody>\n",
       "    <tr>\n",
       "      <th>0</th>\n",
       "      <td>3</td>\n",
       "      <td>107</td>\n",
       "      <td>118</td>\n",
       "      <td>127</td>\n",
       "      <td>134</td>\n",
       "      <td>139</td>\n",
       "      <td>143</td>\n",
       "      <td>146</td>\n",
       "      <td>150</td>\n",
       "      <td>153</td>\n",
       "      <td>...</td>\n",
       "      <td>207</td>\n",
       "      <td>207</td>\n",
       "      <td>207</td>\n",
       "      <td>207</td>\n",
       "      <td>206</td>\n",
       "      <td>206</td>\n",
       "      <td>206</td>\n",
       "      <td>204</td>\n",
       "      <td>203</td>\n",
       "      <td>202</td>\n",
       "    </tr>\n",
       "    <tr>\n",
       "      <th>1</th>\n",
       "      <td>6</td>\n",
       "      <td>155</td>\n",
       "      <td>157</td>\n",
       "      <td>156</td>\n",
       "      <td>156</td>\n",
       "      <td>156</td>\n",
       "      <td>157</td>\n",
       "      <td>156</td>\n",
       "      <td>158</td>\n",
       "      <td>158</td>\n",
       "      <td>...</td>\n",
       "      <td>69</td>\n",
       "      <td>149</td>\n",
       "      <td>128</td>\n",
       "      <td>87</td>\n",
       "      <td>94</td>\n",
       "      <td>163</td>\n",
       "      <td>175</td>\n",
       "      <td>103</td>\n",
       "      <td>135</td>\n",
       "      <td>149</td>\n",
       "    </tr>\n",
       "    <tr>\n",
       "      <th>2</th>\n",
       "      <td>2</td>\n",
       "      <td>187</td>\n",
       "      <td>188</td>\n",
       "      <td>188</td>\n",
       "      <td>187</td>\n",
       "      <td>187</td>\n",
       "      <td>186</td>\n",
       "      <td>187</td>\n",
       "      <td>188</td>\n",
       "      <td>187</td>\n",
       "      <td>...</td>\n",
       "      <td>202</td>\n",
       "      <td>201</td>\n",
       "      <td>200</td>\n",
       "      <td>199</td>\n",
       "      <td>198</td>\n",
       "      <td>199</td>\n",
       "      <td>198</td>\n",
       "      <td>195</td>\n",
       "      <td>194</td>\n",
       "      <td>195</td>\n",
       "    </tr>\n",
       "    <tr>\n",
       "      <th>3</th>\n",
       "      <td>2</td>\n",
       "      <td>211</td>\n",
       "      <td>211</td>\n",
       "      <td>212</td>\n",
       "      <td>212</td>\n",
       "      <td>211</td>\n",
       "      <td>210</td>\n",
       "      <td>211</td>\n",
       "      <td>210</td>\n",
       "      <td>210</td>\n",
       "      <td>...</td>\n",
       "      <td>235</td>\n",
       "      <td>234</td>\n",
       "      <td>233</td>\n",
       "      <td>231</td>\n",
       "      <td>230</td>\n",
       "      <td>226</td>\n",
       "      <td>225</td>\n",
       "      <td>222</td>\n",
       "      <td>229</td>\n",
       "      <td>163</td>\n",
       "    </tr>\n",
       "    <tr>\n",
       "      <th>4</th>\n",
       "      <td>13</td>\n",
       "      <td>164</td>\n",
       "      <td>167</td>\n",
       "      <td>170</td>\n",
       "      <td>172</td>\n",
       "      <td>176</td>\n",
       "      <td>179</td>\n",
       "      <td>180</td>\n",
       "      <td>184</td>\n",
       "      <td>185</td>\n",
       "      <td>...</td>\n",
       "      <td>92</td>\n",
       "      <td>105</td>\n",
       "      <td>105</td>\n",
       "      <td>108</td>\n",
       "      <td>133</td>\n",
       "      <td>163</td>\n",
       "      <td>157</td>\n",
       "      <td>163</td>\n",
       "      <td>164</td>\n",
       "      <td>179</td>\n",
       "    </tr>\n",
       "  </tbody>\n",
       "</table>\n",
       "<p>5 rows × 785 columns</p>\n",
       "</div>"
      ],
      "text/plain": [
       "   label  pixel1  pixel2  pixel3  pixel4  pixel5  pixel6  pixel7  pixel8  \\\n",
       "0      3     107     118     127     134     139     143     146     150   \n",
       "1      6     155     157     156     156     156     157     156     158   \n",
       "2      2     187     188     188     187     187     186     187     188   \n",
       "3      2     211     211     212     212     211     210     211     210   \n",
       "4     13     164     167     170     172     176     179     180     184   \n",
       "\n",
       "   pixel9  ...  pixel775  pixel776  pixel777  pixel778  pixel779  pixel780  \\\n",
       "0     153  ...       207       207       207       207       206       206   \n",
       "1     158  ...        69       149       128        87        94       163   \n",
       "2     187  ...       202       201       200       199       198       199   \n",
       "3     210  ...       235       234       233       231       230       226   \n",
       "4     185  ...        92       105       105       108       133       163   \n",
       "\n",
       "   pixel781  pixel782  pixel783  pixel784  \n",
       "0       206       204       203       202  \n",
       "1       175       103       135       149  \n",
       "2       198       195       194       195  \n",
       "3       225       222       229       163  \n",
       "4       157       163       164       179  \n",
       "\n",
       "[5 rows x 785 columns]"
      ]
     },
     "execution_count": 4,
     "metadata": {},
     "output_type": "execute_result"
    }
   ],
   "source": [
    "df = pd.read_csv('../raw_data/sign_mnist_train.csv') \n",
    "df.head()"
   ]
  },
  {
   "cell_type": "code",
   "execution_count": 5,
   "id": "f75383a2",
   "metadata": {},
   "outputs": [],
   "source": [
    "train_df = pd.read_csv('../raw_data/sign_mnist_train.csv')\n",
    "test_df = pd.read_csv('../raw_data/sign_mnist_test.csv') "
   ]
  },
  {
   "cell_type": "code",
   "execution_count": 8,
   "id": "cf846d00",
   "metadata": {},
   "outputs": [
    {
     "data": {
      "text/html": [
       "<div>\n",
       "<style scoped>\n",
       "    .dataframe tbody tr th:only-of-type {\n",
       "        vertical-align: middle;\n",
       "    }\n",
       "\n",
       "    .dataframe tbody tr th {\n",
       "        vertical-align: top;\n",
       "    }\n",
       "\n",
       "    .dataframe thead th {\n",
       "        text-align: right;\n",
       "    }\n",
       "</style>\n",
       "<table border=\"1\" class=\"dataframe\">\n",
       "  <thead>\n",
       "    <tr style=\"text-align: right;\">\n",
       "      <th></th>\n",
       "      <th>label</th>\n",
       "      <th>pixel1</th>\n",
       "      <th>pixel2</th>\n",
       "      <th>pixel3</th>\n",
       "      <th>pixel4</th>\n",
       "      <th>pixel5</th>\n",
       "      <th>pixel6</th>\n",
       "      <th>pixel7</th>\n",
       "      <th>pixel8</th>\n",
       "      <th>pixel9</th>\n",
       "      <th>...</th>\n",
       "      <th>pixel775</th>\n",
       "      <th>pixel776</th>\n",
       "      <th>pixel777</th>\n",
       "      <th>pixel778</th>\n",
       "      <th>pixel779</th>\n",
       "      <th>pixel780</th>\n",
       "      <th>pixel781</th>\n",
       "      <th>pixel782</th>\n",
       "      <th>pixel783</th>\n",
       "      <th>pixel784</th>\n",
       "    </tr>\n",
       "  </thead>\n",
       "  <tbody>\n",
       "    <tr>\n",
       "      <th>0</th>\n",
       "      <td>3</td>\n",
       "      <td>107</td>\n",
       "      <td>118</td>\n",
       "      <td>127</td>\n",
       "      <td>134</td>\n",
       "      <td>139</td>\n",
       "      <td>143</td>\n",
       "      <td>146</td>\n",
       "      <td>150</td>\n",
       "      <td>153</td>\n",
       "      <td>...</td>\n",
       "      <td>207</td>\n",
       "      <td>207</td>\n",
       "      <td>207</td>\n",
       "      <td>207</td>\n",
       "      <td>206</td>\n",
       "      <td>206</td>\n",
       "      <td>206</td>\n",
       "      <td>204</td>\n",
       "      <td>203</td>\n",
       "      <td>202</td>\n",
       "    </tr>\n",
       "    <tr>\n",
       "      <th>1</th>\n",
       "      <td>6</td>\n",
       "      <td>155</td>\n",
       "      <td>157</td>\n",
       "      <td>156</td>\n",
       "      <td>156</td>\n",
       "      <td>156</td>\n",
       "      <td>157</td>\n",
       "      <td>156</td>\n",
       "      <td>158</td>\n",
       "      <td>158</td>\n",
       "      <td>...</td>\n",
       "      <td>69</td>\n",
       "      <td>149</td>\n",
       "      <td>128</td>\n",
       "      <td>87</td>\n",
       "      <td>94</td>\n",
       "      <td>163</td>\n",
       "      <td>175</td>\n",
       "      <td>103</td>\n",
       "      <td>135</td>\n",
       "      <td>149</td>\n",
       "    </tr>\n",
       "    <tr>\n",
       "      <th>2</th>\n",
       "      <td>2</td>\n",
       "      <td>187</td>\n",
       "      <td>188</td>\n",
       "      <td>188</td>\n",
       "      <td>187</td>\n",
       "      <td>187</td>\n",
       "      <td>186</td>\n",
       "      <td>187</td>\n",
       "      <td>188</td>\n",
       "      <td>187</td>\n",
       "      <td>...</td>\n",
       "      <td>202</td>\n",
       "      <td>201</td>\n",
       "      <td>200</td>\n",
       "      <td>199</td>\n",
       "      <td>198</td>\n",
       "      <td>199</td>\n",
       "      <td>198</td>\n",
       "      <td>195</td>\n",
       "      <td>194</td>\n",
       "      <td>195</td>\n",
       "    </tr>\n",
       "    <tr>\n",
       "      <th>3</th>\n",
       "      <td>2</td>\n",
       "      <td>211</td>\n",
       "      <td>211</td>\n",
       "      <td>212</td>\n",
       "      <td>212</td>\n",
       "      <td>211</td>\n",
       "      <td>210</td>\n",
       "      <td>211</td>\n",
       "      <td>210</td>\n",
       "      <td>210</td>\n",
       "      <td>...</td>\n",
       "      <td>235</td>\n",
       "      <td>234</td>\n",
       "      <td>233</td>\n",
       "      <td>231</td>\n",
       "      <td>230</td>\n",
       "      <td>226</td>\n",
       "      <td>225</td>\n",
       "      <td>222</td>\n",
       "      <td>229</td>\n",
       "      <td>163</td>\n",
       "    </tr>\n",
       "    <tr>\n",
       "      <th>4</th>\n",
       "      <td>13</td>\n",
       "      <td>164</td>\n",
       "      <td>167</td>\n",
       "      <td>170</td>\n",
       "      <td>172</td>\n",
       "      <td>176</td>\n",
       "      <td>179</td>\n",
       "      <td>180</td>\n",
       "      <td>184</td>\n",
       "      <td>185</td>\n",
       "      <td>...</td>\n",
       "      <td>92</td>\n",
       "      <td>105</td>\n",
       "      <td>105</td>\n",
       "      <td>108</td>\n",
       "      <td>133</td>\n",
       "      <td>163</td>\n",
       "      <td>157</td>\n",
       "      <td>163</td>\n",
       "      <td>164</td>\n",
       "      <td>179</td>\n",
       "    </tr>\n",
       "    <tr>\n",
       "      <th>5</th>\n",
       "      <td>16</td>\n",
       "      <td>161</td>\n",
       "      <td>168</td>\n",
       "      <td>172</td>\n",
       "      <td>173</td>\n",
       "      <td>178</td>\n",
       "      <td>184</td>\n",
       "      <td>189</td>\n",
       "      <td>193</td>\n",
       "      <td>196</td>\n",
       "      <td>...</td>\n",
       "      <td>76</td>\n",
       "      <td>74</td>\n",
       "      <td>68</td>\n",
       "      <td>62</td>\n",
       "      <td>53</td>\n",
       "      <td>55</td>\n",
       "      <td>48</td>\n",
       "      <td>238</td>\n",
       "      <td>255</td>\n",
       "      <td>255</td>\n",
       "    </tr>\n",
       "  </tbody>\n",
       "</table>\n",
       "<p>6 rows × 785 columns</p>\n",
       "</div>"
      ],
      "text/plain": [
       "   label  pixel1  pixel2  pixel3  pixel4  pixel5  pixel6  pixel7  pixel8  \\\n",
       "0      3     107     118     127     134     139     143     146     150   \n",
       "1      6     155     157     156     156     156     157     156     158   \n",
       "2      2     187     188     188     187     187     186     187     188   \n",
       "3      2     211     211     212     212     211     210     211     210   \n",
       "4     13     164     167     170     172     176     179     180     184   \n",
       "5     16     161     168     172     173     178     184     189     193   \n",
       "\n",
       "   pixel9  ...  pixel775  pixel776  pixel777  pixel778  pixel779  pixel780  \\\n",
       "0     153  ...       207       207       207       207       206       206   \n",
       "1     158  ...        69       149       128        87        94       163   \n",
       "2     187  ...       202       201       200       199       198       199   \n",
       "3     210  ...       235       234       233       231       230       226   \n",
       "4     185  ...        92       105       105       108       133       163   \n",
       "5     196  ...        76        74        68        62        53        55   \n",
       "\n",
       "   pixel781  pixel782  pixel783  pixel784  \n",
       "0       206       204       203       202  \n",
       "1       175       103       135       149  \n",
       "2       198       195       194       195  \n",
       "3       225       222       229       163  \n",
       "4       157       163       164       179  \n",
       "5        48       238       255       255  \n",
       "\n",
       "[6 rows x 785 columns]"
      ]
     },
     "execution_count": 8,
     "metadata": {},
     "output_type": "execute_result"
    }
   ],
   "source": [
    "train_df.head(6)"
   ]
  },
  {
   "cell_type": "code",
   "execution_count": 10,
   "id": "fd5d262d",
   "metadata": {},
   "outputs": [
    {
     "data": {
      "text/plain": [
       "(27455, 785)"
      ]
     },
     "execution_count": 10,
     "metadata": {},
     "output_type": "execute_result"
    }
   ],
   "source": [
    "df.shape"
   ]
  },
  {
   "cell_type": "code",
   "execution_count": 11,
   "id": "d87824ab",
   "metadata": {},
   "outputs": [
    {
     "data": {
      "text/plain": [
       "Index(['label', 'pixel1', 'pixel2', 'pixel3', 'pixel4', 'pixel5', 'pixel6',\n",
       "       'pixel7', 'pixel8', 'pixel9',\n",
       "       ...\n",
       "       'pixel775', 'pixel776', 'pixel777', 'pixel778', 'pixel779', 'pixel780',\n",
       "       'pixel781', 'pixel782', 'pixel783', 'pixel784'],\n",
       "      dtype='object', length=785)"
      ]
     },
     "execution_count": 11,
     "metadata": {},
     "output_type": "execute_result"
    }
   ],
   "source": [
    "train_df.columns"
   ]
  },
  {
   "cell_type": "code",
   "execution_count": 108,
   "id": "89545f93",
   "metadata": {},
   "outputs": [],
   "source": [
    "train_data_np = np.array(train_df, dtype = 'float32')\n",
    "test_data_np = np.array(test_df, dtype='float32')"
   ]
  },
  {
   "cell_type": "code",
   "execution_count": 33,
   "id": "df53361d",
   "metadata": {},
   "outputs": [
    {
     "name": "stdout",
     "output_type": "stream",
     "text": [
      "(27455, 785)\n",
      "(7172, 785)\n"
     ]
    }
   ],
   "source": [
    "print(train_data_np.shape)\n",
    "print(test_data_np.shape)"
   ]
  },
  {
   "cell_type": "code",
   "execution_count": 24,
   "id": "80d2ede6",
   "metadata": {},
   "outputs": [],
   "source": [
    "class_names = ['A', 'B', 'C', 'D', 'E', 'F', 'G', 'H', 'I', 'J', 'K', 'L', 'M', \n",
    "               'N', 'O', 'P', 'Q', 'R', 'S', 'T', 'U', 'V', 'W', 'X', 'Y' ]"
   ]
  },
  {
   "cell_type": "code",
   "execution_count": 41,
   "id": "71457be3",
   "metadata": {},
   "outputs": [
    {
     "name": "stdout",
     "output_type": "stream",
     "text": [
      "Label for the image is:  G\n"
     ]
    },
    {
     "data": {
      "image/png": "[encoded data removed]",
      "text/plain": [
       "<Figure size 216x216 with 1 Axes>"
      ]
     },
     "metadata": {
      "needs_background": "light"
     },
     "output_type": "display_data"
    }
   ],
   "source": [
    "i = random.randint(1,train_df.shape[0])\n",
    "fig1, ax1 = plt.subplots(figsize=(3,3)) \n",
    "plt.imshow(train_data_np[i,1:].reshape((28,28)), cmap=\"gray\");\n",
    "print(\"Label for the image is: \", class_names[int(train_data_np[i,0])])\n"
   ]
  },
  {
   "cell_type": "code",
   "execution_count": 42,
   "id": "deca7c06",
   "metadata": {},
   "outputs": [
    {
     "name": "stdout",
     "output_type": "stream",
     "text": [
      "Label for the image is:  C\n"
     ]
    },
    {
     "data": {
      "image/png": "[encoded data removed]",
      "text/plain": [
       "<Figure size 216x216 with 1 Axes>"
      ]
     },
     "metadata": {
      "needs_background": "light"
     },
     "output_type": "display_data"
    }
   ],
   "source": [
    "i = random.randint(1,train_df.shape[0])\n",
    "fig1, ax1 = plt.subplots(figsize=(3,3)) \n",
    "plt.imshow(train_data_np[i,1:].reshape((28,28)), cmap=\"gray\");\n",
    "print(\"Label for the image is: \", class_names[int(train_data_np[i,0])])\n"
   ]
  },
  {
   "cell_type": "code",
   "execution_count": 50,
   "id": "678226c0",
   "metadata": {},
   "outputs": [
    {
     "name": "stdout",
     "output_type": "stream",
     "text": [
      "Label for the image is:  A\n"
     ]
    },
    {
     "data": {
      "image/png": "[encoded data removed]",
      "text/plain": [
       "<Figure size 216x216 with 1 Axes>"
      ]
     },
     "metadata": {
      "needs_background": "light"
     },
     "output_type": "display_data"
    }
   ],
   "source": [
    "i = random.randint(1,train_df.shape[0])\n",
    "fig1, ax1 = plt.subplots(figsize=(3,3)) \n",
    "plt.imshow(train_data_np[i,1:].reshape((28,28)), cmap=\"gray\");\n",
    "print(\"Label for the image is: \", class_names[int(train_data_np[i,0])])\n"
   ]
  },
  {
   "cell_type": "code",
   "execution_count": 44,
   "id": "ce3105ae",
   "metadata": {},
   "outputs": [
    {
     "name": "stdout",
     "output_type": "stream",
     "text": [
      "Downloading data from https://www.cs.toronto.edu/~kriz/cifar-10-python.tar.gz\n",
      "170500096/170498071 [==============================] - 124s 1us/step\n"
     ]
    }
   ],
   "source": [
    "(X_train, labels_train), (X_test, labels_test) = cifar10.load_data()"
   ]
  },
  {
   "cell_type": "code",
   "execution_count": 49,
   "id": "a6ce54e6",
   "metadata": {},
   "outputs": [],
   "source": [
    "train_df = train_df / 255. #que sur x\n",
    "test_df = test_df / 255.\n",
    "\n",
    "#categorical que y \n",
    "train_df_cat = to_categorical(train_df)\n",
    "test_df_cat = to_categorical(test_df)"
   ]
  },
  {
   "cell_type": "code",
   "execution_count": null,
   "id": "3dd70b65",
   "metadata": {},
   "outputs": [],
   "source": [
    "#split x et y "
   ]
  },
  {
   "cell_type": "code",
   "execution_count": null,
   "id": "2d5414ee",
   "metadata": {},
   "outputs": [],
   "source": [
    "#categorical to y "
   ]
  },
  {
   "cell_type": "code",
   "execution_count": null,
   "id": "941be6f3",
   "metadata": {},
   "outputs": [],
   "source": [
    "#fit sur x_train et y_categorical "
   ]
  },
  {
   "cell_type": "code",
   "execution_count": 55,
   "id": "f536d3f6",
   "metadata": {},
   "outputs": [],
   "source": [
    "dict_labels = {0 :'A', 1 :'B', 2 : 'C', 3 :'D', 4:'E',\n",
    "               5: 'F', 6 : 'G',7 :'H', 8:'I',9:'K',11:'L',12:'M',13:'O', 14:'P', 15:'Q', 16:'R',17 :'S',18:'T',\n",
    "              19:'U',20:'V',21:'W',22:'X',23:'Y'}\n"
   ]
  },
  {
   "cell_type": "code",
   "execution_count": 60,
   "id": "5775398b",
   "metadata": {},
   "outputs": [],
   "source": [
    "(train_df, labels_train), (test_df , labels_test) = cifar10.load_data()"
   ]
  },
  {
   "cell_type": "code",
   "execution_count": 62,
   "id": "554bca07",
   "metadata": {},
   "outputs": [],
   "source": [
    "unique, counts = np.unique(dict_labels , return_counts=True)\n",
    "#dict_labels(zip(unique, counts))"
   ]
  },
  {
   "cell_type": "code",
   "execution_count": 151,
   "id": "3de4693e",
   "metadata": {},
   "outputs": [],
   "source": [
    "X_train = np.array(df.drop(columns=\"label\"), dtype = 'float32')\n",
    "y_train = df[\"label\"]\n",
    "X_test = np.array(df.drop(columns=\"label\"), dtype = 'float32')\n",
    "y_test = df[\"label\"]"
   ]
  },
  {
   "cell_type": "code",
   "execution_count": 152,
   "id": "5dc7f8d8",
   "metadata": {},
   "outputs": [
    {
     "data": {
      "text/plain": [
       "17    1294\n",
       "16    1279\n",
       "11    1241\n",
       "22    1225\n",
       "5     1204\n",
       "18    1199\n",
       "3     1196\n",
       "14    1196\n",
       "19    1186\n",
       "23    1164\n",
       "8     1162\n",
       "20    1161\n",
       "13    1151\n",
       "2     1144\n",
       "0     1126\n",
       "24    1118\n",
       "10    1114\n",
       "6     1090\n",
       "15    1088\n",
       "21    1082\n",
       "12    1055\n",
       "7     1013\n",
       "1     1010\n",
       "4      957\n",
       "Name: label, dtype: int64"
      ]
     },
     "execution_count": 152,
     "metadata": {},
     "output_type": "execute_result"
    }
   ],
   "source": [
    "y_train.value_counts()"
   ]
  },
  {
   "cell_type": "markdown",
   "id": "7dca3b87",
   "metadata": {},
   "source": [
    "**Train/Test split :**"
   ]
  },
  {
   "cell_type": "code",
   "execution_count": 153,
   "id": "d826496d",
   "metadata": {},
   "outputs": [
    {
     "data": {
      "text/plain": [
       "array([[0.41960785, 0.4627451 , 0.49803922, ..., 0.8       , 0.79607844,\n",
       "        0.7921569 ],\n",
       "       [0.60784316, 0.6156863 , 0.6117647 , ..., 0.40392157, 0.5294118 ,\n",
       "        0.58431375],\n",
       "       [0.73333335, 0.7372549 , 0.7372549 , ..., 0.7647059 , 0.7607843 ,\n",
       "        0.7647059 ],\n",
       "       ...,\n",
       "       [0.68235296, 0.68235296, 0.68235296, ..., 0.7921569 , 0.78431374,\n",
       "        0.78431374],\n",
       "       [0.69411767, 0.70980394, 0.72156864, ..., 0.2509804 , 0.34117648,\n",
       "        0.3647059 ],\n",
       "       [0.7019608 , 0.7058824 , 0.7058824 , ..., 0.8039216 , 0.81960785,\n",
       "        0.84313726]], dtype=float32)"
      ]
     },
     "execution_count": 153,
     "metadata": {},
     "output_type": "execute_result"
    }
   ],
   "source": [
    "from tensorflow.keras.utils import to_categorical\n",
    "X_train = X_train / 255.\n",
    "X_test = X_test / 255.\n",
    "X_train"
   ]
  },
  {
   "cell_type": "code",
   "execution_count": 155,
   "id": "c047b7d1",
   "metadata": {},
   "outputs": [],
   "source": [
    "X_train = X_train.reshape(X_train.shape[0], *(28, 28, 1))\n",
    "X_test = X_test.reshape(X_test.shape[0], *(28,28,1))"
   ]
  },
  {
   "cell_type": "code",
   "execution_count": 154,
   "id": "d5eb6021",
   "metadata": {},
   "outputs": [
    {
     "data": {
      "text/plain": [
       "array([[0., 0., 0., ..., 0., 0., 0.],\n",
       "       [0., 0., 0., ..., 0., 0., 0.],\n",
       "       [0., 0., 1., ..., 0., 0., 0.],\n",
       "       ...,\n",
       "       [0., 0., 0., ..., 0., 0., 0.],\n",
       "       [0., 0., 0., ..., 0., 0., 0.],\n",
       "       [0., 0., 0., ..., 0., 1., 0.]], dtype=float32)"
      ]
     },
     "execution_count": 154,
     "metadata": {},
     "output_type": "execute_result"
    }
   ],
   "source": [
    "y_train_cat = to_categorical(y_train, num_classes=25)\n",
    "y_test_cat = to_categorical(y_test, num_classes=25)\n",
    "y_train_cat"
   ]
  },
  {
   "cell_type": "markdown",
   "id": "f63f5d15",
   "metadata": {},
   "source": [
    "## Convertir les images en vecteurs "
   ]
  },
  {
   "cell_type": "code",
   "execution_count": 110,
   "id": "e2787f5a",
   "metadata": {},
   "outputs": [],
   "source": [
    "import PIL"
   ]
  },
  {
   "cell_type": "code",
   "execution_count": null,
   "id": "e6061661",
   "metadata": {},
   "outputs": [],
   "source": [
    "image = PIL.Image.open(\"/Users/julienvesperini/Desktop/Dataset/user_3/A0.jpg\")"
   ]
  },
  {
   "cell_type": "code",
   "execution_count": null,
   "id": "11d326af",
   "metadata": {},
   "outputs": [],
   "source": [
    "image_array = np.array(image)"
   ]
  },
  {
   "cell_type": "markdown",
   "id": "934ff685",
   "metadata": {},
   "source": [
    "## Model Creation"
   ]
  },
  {
   "cell_type": "code",
   "execution_count": 92,
   "id": "cb971eb7",
   "metadata": {},
   "outputs": [],
   "source": [
    "from tensorflow.keras.models import Sequential\n",
    "from tensorflow.keras import layers\n",
    "from tensorflow.keras import models\n",
    "from tensorflow.keras import layers\n",
    "from tensorflow.keras.callbacks import EarlyStopping\n",
    "from tensorflow.keras.layers import Conv2D"
   ]
  },
  {
   "cell_type": "code",
   "execution_count": null,
   "id": "0bdd0c2c",
   "metadata": {},
   "outputs": [],
   "source": [
    "#def compile_model():\n",
    "\n",
    "    #model1 = Sequential()\n",
    "   # model1.add(Conv2D(32, (3, 3),padding=\"same\", input_shape = (28,28,1), kernel_regularizer=l2(0.0002), activation='relu'))\n",
    "    #model1.add(MaxPooling2D(pool_size = (2, 2)))\n",
    "    #model1.add(Dropout(0.2))\n",
    "\n",
    "    #model1.add(Conv2D(64, (3, 3), padding=\"same\" ,kernel_regularizer=l2(0.0002), activation='relu'))\n",
    "    #model1.add(MaxPooling2D(pool_size = (2, 2)))\n",
    "    #model1.add(Dropout(0.2))\n",
    "\n",
    "    #model1.add(Conv2D(128, (3, 3),padding=\"same\" ,kernel_regularizer=l2(0.0002),  activation='relu'))\n",
    "    #model1.add(MaxPooling2D(pool_size = (2, 2)))\n",
    "    #model1.add(Dropout(0.2))\n",
    "\n",
    "    #model1.add(layers.Flatten())\n",
    "\n",
    "    \n",
    "    #model.add(layers.Dense(128, activation='relu')) # intermediate layer\n",
    "\n",
    "    #model.add(layers.Dense(25, activation='softmax'))\n",
    "\n",
    "    #model1.compile(loss='binary_crossentropy',### Model optimization : Optimizer, loss and metric\n",
    "    #optimizer='adam',\n",
    "    #metrics=['accuracy'])\n",
    "    #return model"
   ]
  },
  {
   "cell_type": "code",
   "execution_count": 181,
   "id": "2728462e",
   "metadata": {},
   "outputs": [],
   "source": [
    "def initialize_model():\n",
    "    '''instanciate and return the CNN architecture of your choice with less than 150,000 params'''\n",
    "    model = models.Sequential()\n",
    "    model.add(layers.Conv2D(32, (3,3), padding='same', activation=\"relu\", input_shape=(28,28,1)))\n",
    "    model.add(layers.MaxPool2D(pool_size=(2,2)))\n",
    "    model.add(layers.Dropout(0.2))\n",
    "    model.add(layers.Conv2D(64, (3,3), padding='same', activation=\"relu\"))\n",
    "    model.add(layers.MaxPool2D(pool_size=(2,2)))\n",
    "    model.add(layers.BatchNormalization())\n",
    "    model.add(layers.Conv2D(64, (3,3), padding='same', activation=\"relu\"))\n",
    "    model.add(layers.MaxPool2D(pool_size=(2,2)))\n",
    "    model.add(layers.BatchNormalization())\n",
    "    \n",
    "    ### Flattening\n",
    "    model.add(layers.Flatten())\n",
    "\n",
    "    ### One fully connected\n",
    "    model.add(layers.Dense(128, activation='relu')) # intermediate layer\n",
    "\n",
    "    model.add(layers.Dense(25, activation='softmax'))\n",
    "    model.add(layers.Dense(1, activation=\"sigmoid\"))\n",
    "    return model"
   ]
  },
  {
   "cell_type": "code",
   "execution_count": 182,
   "id": "a0c21301",
   "metadata": {},
   "outputs": [
    {
     "name": "stdout",
     "output_type": "stream",
     "text": [
      "Model: \"sequential_23\"\n",
      "_________________________________________________________________\n",
      "Layer (type)                 Output Shape              Param #   \n",
      "=================================================================\n",
      "conv2d_42 (Conv2D)           (None, 28, 28, 32)        320       \n",
      "_________________________________________________________________\n",
      "max_pooling2d_40 (MaxPooling (None, 14, 14, 32)        0         \n",
      "_________________________________________________________________\n",
      "dropout_33 (Dropout)         (None, 14, 14, 32)        0         \n",
      "_________________________________________________________________\n",
      "conv2d_43 (Conv2D)           (None, 14, 14, 64)        18496     \n",
      "_________________________________________________________________\n",
      "max_pooling2d_41 (MaxPooling (None, 7, 7, 64)          0         \n",
      "_________________________________________________________________\n",
      "batch_normalization_6 (Batch (None, 7, 7, 64)          256       \n",
      "_________________________________________________________________\n",
      "conv2d_44 (Conv2D)           (None, 7, 7, 64)          36928     \n",
      "_________________________________________________________________\n",
      "max_pooling2d_42 (MaxPooling (None, 3, 3, 64)          0         \n",
      "_________________________________________________________________\n",
      "batch_normalization_7 (Batch (None, 3, 3, 64)          256       \n",
      "_________________________________________________________________\n",
      "flatten_12 (Flatten)         (None, 576)               0         \n",
      "_________________________________________________________________\n",
      "dense_30 (Dense)             (None, 128)               73856     \n",
      "_________________________________________________________________\n",
      "dense_31 (Dense)             (None, 25)                3225      \n",
      "=================================================================\n",
      "Total params: 133,337\n",
      "Trainable params: 133,081\n",
      "Non-trainable params: 256\n",
      "_________________________________________________________________\n"
     ]
    }
   ],
   "source": [
    "model.summary()"
   ]
  },
  {
   "cell_type": "code",
   "execution_count": 183,
   "id": "de0f7111",
   "metadata": {},
   "outputs": [],
   "source": [
    "def compile_model(model):\n",
    "    model.compile(loss='categorical_crossentropy',\n",
    "          optimizer='adam',\n",
    "          metrics=['accuracy'])\n",
    "    return model"
   ]
  },
  {
   "cell_type": "code",
   "execution_count": 186,
   "id": "f1f470c4",
   "metadata": {},
   "outputs": [
    {
     "name": "stdout",
     "output_type": "stream",
     "text": [
      "Epoch 1/100\n",
      "301/301 [==============================] - 40s 131ms/step - loss: 0.0000e+00 - accuracy: 0.0375 - val_loss: 0.0000e+00 - val_accuracy: 0.0356\n",
      "Epoch 2/100\n",
      "301/301 [==============================] - 42s 140ms/step - loss: 0.0000e+00 - accuracy: 0.0373 - val_loss: 0.0000e+00 - val_accuracy: 0.0356\n",
      "Epoch 3/100\n",
      "301/301 [==============================] - 41s 135ms/step - loss: 0.0000e+00 - accuracy: 0.0373 - val_loss: 0.0000e+00 - val_accuracy: 0.0356\n",
      "Epoch 4/100\n",
      "301/301 [==============================] - 40s 133ms/step - loss: 0.0000e+00 - accuracy: 0.0373 - val_loss: 0.0000e+00 - val_accuracy: 0.0356\n",
      "Epoch 5/100\n",
      "301/301 [==============================] - 39s 130ms/step - loss: 0.0000e+00 - accuracy: 0.0373 - val_loss: 0.0000e+00 - val_accuracy: 0.0356\n",
      "Epoch 6/100\n",
      "301/301 [==============================] - 42s 139ms/step - loss: 0.0000e+00 - accuracy: 0.0373 - val_loss: 0.0000e+00 - val_accuracy: 0.0356\n",
      "Epoch 00006: early stopping\n"
     ]
    }
   ],
   "source": [
    "from tensorflow.keras.regularizers import l2\n",
    "from tensorflow.keras.layers import MaxPooling2D\n",
    "from tensorflow.keras.layers import Dropout\n",
    "from tensorflow.keras.callbacks import EarlyStopping\n",
    "\n",
    "model = initialize_model()\n",
    "\n",
    "model = compile_model(model)\n",
    "\n",
    "\n",
    "es = EarlyStopping(patience=5, verbose=2)\n",
    "\n",
    "history_small = model.fit(X_train, y_train, \n",
    "                    validation_split=0.3,\n",
    "                    callbacks=[es], \n",
    "                    epochs=100, \n",
    "                    batch_size=64)\n"
   ]
  },
  {
   "cell_type": "markdown",
   "id": "538e6339",
   "metadata": {},
   "source": [
    "## new dataset\n",
    "## resize les images"
   ]
  },
  {
   "cell_type": "code",
   "execution_count": 185,
   "id": "2f30529a",
   "metadata": {},
   "outputs": [],
   "source": [
    "import PIL"
   ]
  },
  {
   "cell_type": "code",
   "execution_count": 140,
   "id": "0b78a305",
   "metadata": {},
   "outputs": [
    {
     "data": {
      "image/png": "[encoded data removed]",
      "text/plain": [
       "<PIL.JpegImagePlugin.JpegImageFile image mode=RGB size=320x240 at 0x181DF5C40>"
      ]
     },
     "execution_count": 140,
     "metadata": {},
     "output_type": "execute_result"
    }
   ],
   "source": [
    "imageA1 = PIL.Image.open('../dataset1/user_4/A1.jpg') \n",
    "imageA1"
   ]
  },
  {
   "cell_type": "code",
   "execution_count": 141,
   "id": "3ae44fd7",
   "metadata": {},
   "outputs": [
    {
     "data": {
      "image/png": "[encoded data removed]",
      "text/plain": [
       "<PIL.JpegImagePlugin.JpegImageFile image mode=RGB size=320x240 at 0x164CEA130>"
      ]
     },
     "execution_count": 141,
     "metadata": {},
     "output_type": "execute_result"
    }
   ],
   "source": [
    "imageC4 = PIL.Image.open('../dataset1/user_4/C4.jpg') \n",
    "imageC4"
   ]
  },
  {
   "cell_type": "code",
   "execution_count": 125,
   "id": "6732960b",
   "metadata": {},
   "outputs": [],
   "source": [
    "resize_image =image.resize((320,240))\n",
    "image_array = np.array(resize_image) "
   ]
  },
  {
   "cell_type": "code",
   "execution_count": 137,
   "id": "31ef57e8",
   "metadata": {},
   "outputs": [
    {
     "data": {
      "text/plain": [
       "array([[[ 90,  92,  87],\n",
       "        [ 56,  58,  53],\n",
       "        [ 50,  52,  47],\n",
       "        ...,\n",
       "        [126, 127, 122],\n",
       "        [126, 127, 122],\n",
       "        [127, 128, 123]],\n",
       "\n",
       "       [[ 87,  89,  86],\n",
       "        [ 55,  57,  54],\n",
       "        [ 51,  53,  50],\n",
       "        ...,\n",
       "        [127, 128, 123],\n",
       "        [127, 128, 123],\n",
       "        [128, 129, 124]],\n",
       "\n",
       "       [[ 81,  83,  80],\n",
       "        [ 54,  56,  53],\n",
       "        [ 52,  54,  51],\n",
       "        ...,\n",
       "        [128, 129, 124],\n",
       "        [128, 129, 124],\n",
       "        [129, 130, 125]],\n",
       "\n",
       "       ...,\n",
       "\n",
       "       [[ 91,  95, 104],\n",
       "        [  1,   1,  11],\n",
       "        [131, 131, 139],\n",
       "        ...,\n",
       "        [ 74,  78,  64],\n",
       "        [ 73,  77,  63],\n",
       "        [ 74,  78,  64]],\n",
       "\n",
       "       [[ 78,  82,  91],\n",
       "        [  0,   0,   9],\n",
       "        [140, 140, 148],\n",
       "        ...,\n",
       "        [118, 122, 107],\n",
       "        [ 99, 103,  89],\n",
       "        [ 72,  76,  62]],\n",
       "\n",
       "       [[ 73,  77,  86],\n",
       "        [  0,   0,  10],\n",
       "        [145, 145, 153],\n",
       "        ...,\n",
       "        [163, 167, 152],\n",
       "        [139, 143, 129],\n",
       "        [ 99, 103,  89]]], dtype=uint8)"
      ]
     },
     "execution_count": 137,
     "metadata": {},
     "output_type": "execute_result"
    }
   ],
   "source": [
    "image_array"
   ]
  },
  {
   "cell_type": "code",
   "execution_count": 133,
   "id": "a59a9d6c",
   "metadata": {},
   "outputs": [
    {
     "data": {
      "text/plain": [
       "(240, 320, 3)"
      ]
     },
     "execution_count": 133,
     "metadata": {},
     "output_type": "execute_result"
    }
   ],
   "source": [
    "image_shape = image_array.shape\n",
    "image_shape"
   ]
  },
  {
   "cell_type": "code",
   "execution_count": 131,
   "id": "0d1129d2",
   "metadata": {},
   "outputs": [],
   "source": [
    "from scipy import ndimage"
   ]
  },
  {
   "cell_type": "code",
   "execution_count": 142,
   "id": "38833474",
   "metadata": {},
   "outputs": [
    {
     "data": {
      "text/plain": [
       "array([[[ 90,  91,  92,  91,  89,  87],\n",
       "        [ 77,  78,  79,  78,  75,  74],\n",
       "        [ 56,  57,  58,  57,  55,  53],\n",
       "        ...,\n",
       "        [126, 127, 127, 126, 123, 122],\n",
       "        [127, 127, 128, 127, 124, 123],\n",
       "        [127, 128, 128, 127, 124, 123]],\n",
       "\n",
       "       [[ 89,  90,  91,  91,  88,  87],\n",
       "        [ 76,  77,  78,  78,  75,  74],\n",
       "        [ 56,  57,  58,  57,  55,  54],\n",
       "        ...,\n",
       "        [126, 127, 128, 126, 124, 122],\n",
       "        [127, 128, 128, 127, 124, 123],\n",
       "        [127, 128, 129, 127, 125, 123]],\n",
       "\n",
       "       [[ 87,  88,  89,  89,  87,  86],\n",
       "        [ 75,  75,  77,  76,  75,  74],\n",
       "        [ 55,  56,  57,  57,  55,  54],\n",
       "        ...,\n",
       "        [127, 128, 128, 127, 124, 123],\n",
       "        [128, 128, 129, 128, 125, 124],\n",
       "        [128, 129, 129, 128, 125, 124]],\n",
       "\n",
       "       ...,\n",
       "\n",
       "       [[ 78,  78,  80,  84,  89,  91],\n",
       "        [ 38,  38,  39,  43,  47,  50],\n",
       "        [  0,   0,   0,   2,   6,   9],\n",
       "        ...,\n",
       "        [ 99, 101, 104, 101,  93,  89],\n",
       "        [ 82,  84,  86,  83,  76,  72],\n",
       "        [ 72,  74,  77,  74,  66,  62]],\n",
       "\n",
       "       [[ 74,  75,  77,  80,  85,  87],\n",
       "        [ 35,  36,  37,  40,  45,  47],\n",
       "        [  0,   0,   0,   2,   7,   9],\n",
       "        ...,\n",
       "        [125, 127, 129, 126, 119, 115],\n",
       "        [101, 103, 105, 103,  95,  91],\n",
       "        [ 88,  90,  93,  90,  82,  78]],\n",
       "\n",
       "       [[ 73,  73,  75,  79,  84,  86],\n",
       "        [ 35,  35,  36,  39,  44,  47],\n",
       "        [  0,   0,   0,   2,   7,  10],\n",
       "        ...,\n",
       "        [139, 141, 143, 141, 133, 129],\n",
       "        [113, 115, 117, 115, 107, 103],\n",
       "        [ 99, 101, 104, 101,  93,  89]]], dtype=uint8)"
      ]
     },
     "execution_count": 142,
     "metadata": {},
     "output_type": "execute_result"
    }
   ],
   "source": [
    "result = ndimage.zoom(imageA1, 2)\n",
    "result"
   ]
  },
  {
   "cell_type": "code",
   "execution_count": 171,
   "id": "6e5e9a47",
   "metadata": {},
   "outputs": [],
   "source": [
    "#plt.imshow(result)"
   ]
  },
  {
   "cell_type": "code",
   "execution_count": null,
   "id": "07c0c288",
   "metadata": {},
   "outputs": [],
   "source": []
  }
 ],
 "metadata": {
  "kernelspec": {
   "display_name": "Python 3 (ipykernel)",
   "language": "python",
   "name": "python3"
  },
  "language_info": {
   "codemirror_mode": {
    "name": "ipython",
    "version": 3
   },
   "file_extension": ".py",
   "mimetype": "text/x-python",
   "name": "python",
   "nbconvert_exporter": "python",
   "pygments_lexer": "ipython3",
   "version": "3.8.12"
  },
  "toc": {
   "base_numbering": 1,
   "nav_menu": {},
   "number_sections": true,
   "sideBar": true,
   "skip_h1_title": false,
   "title_cell": "Table of Contents",
   "title_sidebar": "Contents",
   "toc_cell": false,
   "toc_position": {},
   "toc_section_display": true,
   "toc_window_display": false
  }
 },
 "nbformat": 4,
 "nbformat_minor": 5
}
